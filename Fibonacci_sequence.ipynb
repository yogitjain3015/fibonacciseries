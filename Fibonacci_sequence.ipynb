{
  "nbformat": 4,
  "nbformat_minor": 0,
  "metadata": {
    "colab": {
      "provenance": [],
      "authorship_tag": "ABX9TyMWrTMAQFyevnDqOVGeUHAp",
      "include_colab_link": true
    },
    "kernelspec": {
      "name": "python3",
      "display_name": "Python 3"
    },
    "language_info": {
      "name": "python"
    }
  },
  "cells": [
    {
      "cell_type": "markdown",
      "metadata": {
        "id": "view-in-github",
        "colab_type": "text"
      },
      "source": [
        "<a href=\"https://colab.research.google.com/github/yogitjain3015/fibonacciseries/blob/main/Fibonacci_sequence.ipynb\" target=\"_parent\"><img src=\"https://colab.research.google.com/assets/colab-badge.svg\" alt=\"Open In Colab\"/></a>"
      ]
    },
    {
      "cell_type": "code",
      "execution_count": 1,
      "metadata": {
        "colab": {
          "base_uri": "https://localhost:8080/"
        },
        "id": "ukb_DeFMysAm",
        "outputId": "bc00c3b1-ca20-4b0d-d65c-dbf7594250e9"
      },
      "outputs": [
        {
          "output_type": "stream",
          "name": "stdout",
          "text": [
            "How many terms? 5\n",
            "Fibonacci sequence:\n",
            "0\n",
            "1\n",
            "1\n",
            "2\n",
            "3\n"
          ]
        }
      ],
      "source": [
        "nterms = int(input(\"How many terms? \"))\n",
        "\n",
        "\n",
        "\n",
        "# first two terms\n",
        "\n",
        "n1, n2 = 0, 1\n",
        "\n",
        "count = 0\n",
        "\n",
        "\n",
        "\n",
        "# check if the number of terms is valid\n",
        "\n",
        "if nterms <= 0:\n",
        "\n",
        "  print(\"Please enter a positive integer\")\n",
        "\n",
        "# if there is only one term, return n1\n",
        "\n",
        "elif nterms == 1:\n",
        "\n",
        "  print(\"Fibonacci sequence upto\",nterms,\":\")\n",
        "\n",
        "  print(n1)\n",
        "\n",
        "# generate fibonacci sequence\n",
        "\n",
        "else:\n",
        "\n",
        "  print(\"Fibonacci sequence:\")\n",
        "\n",
        "  while count < nterms:\n",
        "\n",
        "    print(n1)\n",
        "\n",
        "    nth = n1 + n2\n",
        "\n",
        "    # update values\n",
        "\n",
        "    n1 = n2\n",
        "\n",
        "    n2 = nth\n",
        "\n",
        "    count += 1"
      ]
    }
  ]
}